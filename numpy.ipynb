{
 "cells": [
  {
   "cell_type": "code",
   "execution_count": 22,
   "metadata": {},
   "outputs": [
    {
     "name": "stdout",
     "output_type": "stream",
     "text": [
      "2.2.1\n"
     ]
    }
   ],
   "source": [
    "import numpy as np \n",
    "print(np.__version__)"
   ]
  },
  {
   "cell_type": "code",
   "execution_count": 23,
   "metadata": {},
   "outputs": [
    {
     "name": "stdout",
     "output_type": "stream",
     "text": [
      "1\n",
      "2\n",
      "3\n"
     ]
    },
    {
     "data": {
      "text/plain": [
       "18"
      ]
     },
     "execution_count": 23,
     "metadata": {},
     "output_type": "execute_result"
    }
   ],
   "source": [
    "a1 = np.array([1, 2, 3])\n",
    "\n",
    "a2 = np.array([[1, 2, 3], [4, 5, 6]])\n",
    "\n",
    "a3 = np.array([[[1, 2, 3],\n",
    "                 [4, 5, 6], \n",
    "                 [7, 8, 9]],\n",
    "                 [[1, 2, 3],\n",
    "                 [4, 5, 6],\n",
    "                 [7, 8, 9]]])\n",
    "print(a1.ndim)\n",
    "print(a2.ndim) \n",
    "print(a3.ndim)\n",
    "a3.shape\n",
    "a3.dtype\n",
    "a3.size\n"
   ]
  },
  {
   "cell_type": "code",
   "execution_count": 24,
   "metadata": {},
   "outputs": [
    {
     "data": {
      "text/html": [
       "<div>\n",
       "<style scoped>\n",
       "    .dataframe tbody tr th:only-of-type {\n",
       "        vertical-align: middle;\n",
       "    }\n",
       "\n",
       "    .dataframe tbody tr th {\n",
       "        vertical-align: top;\n",
       "    }\n",
       "\n",
       "    .dataframe thead th {\n",
       "        text-align: right;\n",
       "    }\n",
       "</style>\n",
       "<table border=\"1\" class=\"dataframe\">\n",
       "  <thead>\n",
       "    <tr style=\"text-align: right;\">\n",
       "      <th></th>\n",
       "      <th>a</th>\n",
       "      <th>b</th>\n",
       "      <th>c</th>\n",
       "    </tr>\n",
       "  </thead>\n",
       "  <tbody>\n",
       "    <tr>\n",
       "      <th>0</th>\n",
       "      <td>422296123</td>\n",
       "      <td>260306057</td>\n",
       "      <td>265093114</td>\n",
       "    </tr>\n",
       "    <tr>\n",
       "      <th>1</th>\n",
       "      <td>700356955</td>\n",
       "      <td>110650952</td>\n",
       "      <td>891411073</td>\n",
       "    </tr>\n",
       "    <tr>\n",
       "      <th>2</th>\n",
       "      <td>225710044</td>\n",
       "      <td>181296891</td>\n",
       "      <td>267348946</td>\n",
       "    </tr>\n",
       "    <tr>\n",
       "      <th>3</th>\n",
       "      <td>544646847</td>\n",
       "      <td>210869244</td>\n",
       "      <td>875215795</td>\n",
       "    </tr>\n",
       "    <tr>\n",
       "      <th>4</th>\n",
       "      <td>184062948</td>\n",
       "      <td>365451383</td>\n",
       "      <td>207461970</td>\n",
       "    </tr>\n",
       "  </tbody>\n",
       "</table>\n",
       "</div>"
      ],
      "text/plain": [
       "           a          b          c\n",
       "0  422296123  260306057  265093114\n",
       "1  700356955  110650952  891411073\n",
       "2  225710044  181296891  267348946\n",
       "3  544646847  210869244  875215795\n",
       "4  184062948  365451383  207461970"
      ]
     },
     "execution_count": 24,
     "metadata": {},
     "output_type": "execute_result"
    }
   ],
   "source": [
    "import pandas as pd\n",
    "\n",
    "df = pd.DataFrame(np.random.randint(1000000000, size=(5,3)), columns=['a', 'b', 'c'])\n",
    "df"
   ]
  },
  {
   "cell_type": "code",
   "execution_count": 25,
   "metadata": {},
   "outputs": [
    {
     "data": {
      "text/plain": [
       "array([[1, 1],\n",
       "       [1, 1],\n",
       "       [1, 1],\n",
       "       [1, 1],\n",
       "       [1, 1],\n",
       "       [1, 1],\n",
       "       [1, 1],\n",
       "       [1, 1],\n",
       "       [1, 1],\n",
       "       [1, 1]])"
      ]
     },
     "execution_count": 25,
     "metadata": {},
     "output_type": "execute_result"
    }
   ],
   "source": [
    "ones = np.ones((10,2))\n",
    "ones\n",
    "\n",
    "zero = np.zeros((10,2))\n",
    "zero\n",
    "\n",
    "one_int = ones.astype(int)\n",
    "one_int"
   ]
  },
  {
   "cell_type": "code",
   "execution_count": 28,
   "metadata": {},
   "outputs": [
    {
     "data": {
      "text/plain": [
       "array([[0.74138274, 0.07639202, 0.20563917, 0.10901154, 0.16906194,\n",
       "        0.63428718, 0.88926238, 0.43904233, 0.70228338, 0.12504906,\n",
       "        0.12760994, 0.91346911, 0.58890138, 0.58036218, 0.55867589,\n",
       "        0.66141354, 0.61647245, 0.54595589, 0.86993357, 0.5937822 ],\n",
       "       [0.12351224, 0.33827853, 0.09980767, 0.75739724, 0.72192278,\n",
       "        0.99702425, 0.9768512 , 0.45570452, 0.48467934, 0.31431058,\n",
       "        0.14240085, 0.28448328, 0.18882052, 0.83688892, 0.52958166,\n",
       "        0.11288155, 0.53849904, 0.89355761, 0.96335087, 0.40523914],\n",
       "       [0.20606125, 0.60796192, 0.97166841, 0.7817113 , 0.37220244,\n",
       "        0.28449722, 0.96901285, 0.24853137, 0.43773685, 0.18028388,\n",
       "        0.13843856, 0.43722607, 0.85391947, 0.43332374, 0.45199067,\n",
       "        0.80974329, 0.38049971, 0.70572113, 0.56793539, 0.17357265],\n",
       "       [0.97866222, 0.07390076, 0.76834705, 0.28953864, 0.28908498,\n",
       "        0.05570312, 0.96771665, 0.79880826, 0.20313081, 0.7124256 ,\n",
       "        0.20859012, 0.28445657, 0.93750966, 0.78373146, 0.23337464,\n",
       "        0.71575265, 0.41450702, 0.85260491, 0.82813745, 0.75279185],\n",
       "       [0.81086538, 0.78151535, 0.87950756, 0.62777476, 0.82391885,\n",
       "        0.26105146, 0.54585361, 0.6917796 , 0.81319961, 0.25990029,\n",
       "        0.04158449, 0.45158085, 0.84401689, 0.65305969, 0.58617677,\n",
       "        0.93927601, 0.35994896, 0.32762177, 0.1216164 , 0.33090899]])"
      ]
     },
     "execution_count": 28,
     "metadata": {},
     "output_type": "execute_result"
    }
   ],
   "source": [
    "array1 = np.random.random((5,20))\n",
    "array1"
   ]
  }
 ],
 "metadata": {
  "kernelspec": {
   "display_name": "Python 3",
   "language": "python",
   "name": "python3"
  },
  "language_info": {
   "codemirror_mode": {
    "name": "ipython",
    "version": 3
   },
   "file_extension": ".py",
   "mimetype": "text/x-python",
   "name": "python",
   "nbconvert_exporter": "python",
   "pygments_lexer": "ipython3",
   "version": "3.13.1"
  }
 },
 "nbformat": 4,
 "nbformat_minor": 2
}
